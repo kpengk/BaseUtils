{
 "cells": [
  {
   "cell_type": "code",
   "execution_count": 1,
   "metadata": {},
   "outputs": [],
   "source": [
    "out_file = open('out.md', 'w', encoding='utf-8')\n",
    "\n",
    "prev_line = ''\n",
    "is_code = False\n",
    "for line in open('D:/Test/design-pattern/Design Patterns In Modern C++.md', 'r', encoding='utf-8'):\n",
    "    line = line[:-1]\n",
    "    if line == '```cpp' or line == '```c++':\n",
    "        is_code = True\n",
    "        out_file.write(line)\n",
    "        prev_line = ''\n",
    "        continue\n",
    "    elif line == '```':\n",
    "        is_code = False\n",
    "        out_file.write(prev_line + '\\n')\n",
    "        out_file.write(line + '\\n')\n",
    "        prev_line = ''\n",
    "        continue\n",
    "    \n",
    "    if is_code:\n",
    "        valid_text = prev_line.strip()\n",
    "        is_comment = valid_text.startswith('//') or valid_text.startswith('/*')\n",
    "        if not is_comment and line.strip() == '{':\n",
    "            id = prev_line.find('//')\n",
    "            if id > 0:\n",
    "                prev_line = prev_line[:id] + '{ ' + prev_line[id:]\n",
    "            else:\n",
    "                prev_line += ' {'\n",
    "        else:\n",
    "            out_file.write(prev_line + '\\n')\n",
    "            prev_line = line\n",
    "    else:\n",
    "        out_file.write(line + '\\n')\n",
    "\n",
    "out_file.close()"
   ]
  },
  {
   "cell_type": "code",
   "execution_count": 1,
   "metadata": {},
   "outputs": [],
   "source": [
    "def left_bracket_convert(lines:list[str]):\n",
    "    result = []\n",
    "    prev_line = ''\n",
    "    for line in lines:\n",
    "        line = line[:-1]\n",
    "        valid_text = prev_line.strip()\n",
    "        is_comment = valid_text.startswith('//') or valid_text.startswith('/*')\n",
    "        if is_comment or valid_text.endswith(';') or valid_text.startswith('#'):\n",
    "            result.append(prev_line + '\\n')\n",
    "            prev_line = line\n",
    "        elif line.strip() == '{':\n",
    "            id = prev_line.find('//')\n",
    "            if id > 0:\n",
    "                prev_line = prev_line[:id] + '{ ' + prev_line[id:]\n",
    "            else:\n",
    "                prev_line += ' {'\n",
    "        elif line.strip().startswith('else') and valid_text.endswith('}'):\n",
    "            id = prev_line.find('//')\n",
    "            if id > 0:\n",
    "                prev_line = prev_line[:id] + ' ' + line.strip() + prev_line[id:]\n",
    "            else:\n",
    "                prev_line += ' ' + line.strip()\n",
    "        else:\n",
    "            result.append(prev_line + '\\n')\n",
    "            prev_line = line\n",
    "    result.append(prev_line + '\\n')\n",
    "    return result"
   ]
  },
  {
   "cell_type": "code",
   "execution_count": 2,
   "metadata": {},
   "outputs": [],
   "source": [
    "def convert_file(filename:str):\n",
    "    filename = filename.strip()\n",
    "    is_cpp_code_file = filename.endswith('.h') or filename.endswith('.hpp') or filename.endswith('.cpp')\n",
    "    if not is_cpp_code_file:\n",
    "        return\n",
    "    with open(filename, 'r', encoding='utf-8') as f:\n",
    "        lines = f.readlines()\n",
    "        f.close()\n",
    "        result = left_bracket_convert(lines)\n",
    "        with open(filename, 'w', encoding='utf-8') as out_f:\n",
    "            for line in result:\n",
    "                out_f.write(line)"
   ]
  },
  {
   "cell_type": "code",
   "execution_count": 3,
   "metadata": {},
   "outputs": [],
   "source": [
    "import os"
   ]
  },
  {
   "cell_type": "code",
   "execution_count": 4,
   "metadata": {},
   "outputs": [],
   "source": [
    "file_list = []\n",
    "\n",
    "def getTarget(dir):\n",
    "  temp = os.listdir(dir)\n",
    "  for t in temp:\n",
    "    if (os.path.isfile(dir + '/' + t)):\n",
    "      #print('find file:', dir + '/' + t)\n",
    "      file_list.append(dir + '/' + t)\n",
    "    else:\n",
    "      getTarget(dir + '/' + t)\n",
    "      \n",
    "getTarget('D:/Project/Rail/RailMeasure/src')"
   ]
  },
  {
   "cell_type": "code",
   "execution_count": 5,
   "metadata": {},
   "outputs": [],
   "source": [
    "for file_name in file_list:\n",
    "    convert_file(file_name)"
   ]
  },
  {
   "cell_type": "code",
   "execution_count": null,
   "metadata": {},
   "outputs": [],
   "source": []
  }
 ],
 "metadata": {
  "kernelspec": {
   "display_name": "Python 3.9.12 ('base')",
   "language": "python",
   "name": "python3"
  },
  "language_info": {
   "codemirror_mode": {
    "name": "ipython",
    "version": 3
   },
   "file_extension": ".py",
   "mimetype": "text/x-python",
   "name": "python",
   "nbconvert_exporter": "python",
   "pygments_lexer": "ipython3",
   "version": "3.9.12"
  },
  "orig_nbformat": 4,
  "vscode": {
   "interpreter": {
    "hash": "f2d996236baa7b6e2f079f9c8a0706eb2d783ca855786ba79a4b8fb51190b240"
   }
  }
 },
 "nbformat": 4,
 "nbformat_minor": 2
}
