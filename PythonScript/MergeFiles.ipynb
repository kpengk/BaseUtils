{
 "cells": [
  {
   "cell_type": "code",
   "execution_count": 1,
   "metadata": {},
   "outputs": [],
   "source": [
    "# -*- coding:utf-8 -*-  \n",
    "import os"
   ]
  },
  {
   "cell_type": "code",
   "execution_count": 2,
   "metadata": {},
   "outputs": [],
   "source": [
    "file_list = []\n",
    "\n",
    "def getTarget(dir):\n",
    "  temp = os.listdir(dir)\n",
    "  for t in temp:\n",
    "    if (os.path.isfile(dir + '/' + t)):\n",
    "      #print('find file:', dir + '/' + t)\n",
    "      file_list.append(dir + '/' + t)\n",
    "    else:\n",
    "      getTarget(dir + '/' + t)\n",
    "      \n",
    "getTarget('D:/Test/design-pattern/docs')\n"
   ]
  },
  {
   "cell_type": "code",
   "execution_count": 3,
   "metadata": {},
   "outputs": [
    {
     "name": "stdout",
     "output_type": "stream",
     "text": [
      "copy file: D:/Test/design-pattern/docs/chapter-01-introduction.md\n",
      "copy file: D:/Test/design-pattern/docs/chapter-02-builder.md\n",
      "copy file: D:/Test/design-pattern/docs/chapter-03-factories.md\n",
      "copy file: D:/Test/design-pattern/docs/chapter-04-prototype.md\n",
      "copy file: D:/Test/design-pattern/docs/chapter-05-singleton.md\n",
      "copy file: D:/Test/design-pattern/docs/chapter-06-adapter.md\n",
      "copy file: D:/Test/design-pattern/docs/chapter-07-bridge.md\n",
      "copy file: D:/Test/design-pattern/docs/chapter-08-composite.md\n",
      "copy file: D:/Test/design-pattern/docs/chapter-09-decorator.md\n",
      "copy file: D:/Test/design-pattern/docs/chapter-10-facade.md\n",
      "copy file: D:/Test/design-pattern/docs/chapter-11-flyweight.md\n",
      "copy file: D:/Test/design-pattern/docs/chapter-12-proxy.md\n",
      "copy file: D:/Test/design-pattern/docs/chapter-13-chain_of_responsibility.md\n",
      "copy file: D:/Test/design-pattern/docs/chapter-14-command.md\n",
      "copy file: D:/Test/design-pattern/docs/chapter-15-interpreter.md\n",
      "copy file: D:/Test/design-pattern/docs/chapter-16-iterator.md\n",
      "copy file: D:/Test/design-pattern/docs/chapter-17-Mediator.md\n",
      "copy file: D:/Test/design-pattern/docs/chapter-18-Memento.md\n",
      "copy file: D:/Test/design-pattern/docs/chapter-19-null_object.md\n",
      "copy file: D:/Test/design-pattern/docs/chapter-20-observer.md\n",
      "copy file: D:/Test/design-pattern/docs/chapter-21-state.md\n",
      "copy file: D:/Test/design-pattern/docs/chapter-22-strategy.md\n",
      "copy file: D:/Test/design-pattern/docs/chapter-23-template_method.md\n",
      "copy file: D:/Test/design-pattern/docs/chapter-24-visitor.md\n"
     ]
    }
   ],
   "source": [
    "out_file=open('merge.md','w', encoding='utf8')\n",
    "\n",
    "for file in file_list:\n",
    "    out_file.write('\\n---------------\\n')\n",
    "    out_file.write('# ' + file + '\\n\\n')\n",
    "    f = open(file, 'r', encoding='utf8')\n",
    "    txt_data = f.read()\n",
    "    out_file.write(txt_data)\n",
    "    out_file.write('\\n')\n",
    "    f.close()\n",
    "    print('copy file: ' + file)\n",
    "\n",
    "out_file.close()"
   ]
  },
  {
   "cell_type": "code",
   "execution_count": null,
   "metadata": {},
   "outputs": [],
   "source": []
  }
 ],
 "metadata": {
  "kernelspec": {
   "display_name": "Python 3.9.12 ('base')",
   "language": "python",
   "name": "python3"
  },
  "language_info": {
   "codemirror_mode": {
    "name": "ipython",
    "version": 3
   },
   "file_extension": ".py",
   "mimetype": "text/x-python",
   "name": "python",
   "nbconvert_exporter": "python",
   "pygments_lexer": "ipython3",
   "version": "3.9.12"
  },
  "orig_nbformat": 4,
  "vscode": {
   "interpreter": {
    "hash": "f2d996236baa7b6e2f079f9c8a0706eb2d783ca855786ba79a4b8fb51190b240"
   }
  }
 },
 "nbformat": 4,
 "nbformat_minor": 2
}
